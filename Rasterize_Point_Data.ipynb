{
 "cells": [
  {
   "cell_type": "markdown",
   "metadata": {
    "slideshow": {
     "slide_type": "slide"
    }
   },
   "source": [
    "## Rasterize Point Data"
   ]
  },
  {
   "cell_type": "code",
   "execution_count": 1,
   "metadata": {
    "slideshow": {
     "slide_type": "-"
    }
   },
   "outputs": [],
   "source": [
    "import pandas as pd\n",
    "import fiona\n",
    "import geopandas as gpd\n",
    "import matplotlib.pyplot as plt\n",
    "% matplotlib inline\n",
    "import numpy as np\n",
    "import os\n",
    "import rasterio\n",
    "from rasterio import features\n",
    "from rasterio.features import shapes\n",
    "from rasterio.tools.mask import mask\n",
    "from shapely.geometry import shape\n",
    "import json\n",
    "import cartopy.crs as ccrs\n",
    "import xarray as xr\n",
    "import georaster"
   ]
  },
  {
   "cell_type": "markdown",
   "metadata": {
    "slideshow": {
     "slide_type": "slide"
    }
   },
   "source": [
    "## Setting up the Data and Variables"
   ]
  },
  {
   "cell_type": "code",
   "execution_count": 8,
   "metadata": {
    "slideshow": {
     "slide_type": "-"
    }
   },
   "outputs": [],
   "source": [
    "datapath=('C:\\\\Users\\\\Matt\\\\OneDrive\\\\Python\\\\Project\\\\clean_data')\n",
    "g_datapath=('https://drive.google.com/drive/folders/15g7RWPRGI9-M31xGDDZhOm5rUXrK3Z02?usp=sharing/EAB.shp')"
   ]
  },
  {
   "cell_type": "code",
   "execution_count": 6,
   "metadata": {
    "slideshow": {
     "slide_type": "-"
    }
   },
   "outputs": [],
   "source": [
    "# Assign variable names for raster path/filenames\n",
    "template_raster = (os.path.join(g_datapath,'s541.img'))\n",
    "#ny_ash_out = (os.path.join(datapath,'NYs541.tif'))\n",
    "output_raster = (os.path.join(g_datapath,'EAB_Proj.tif'))"
   ]
  },
  {
   "cell_type": "code",
   "execution_count": 7,
   "metadata": {
    "slideshow": {
     "slide_type": "-"
    }
   },
   "outputs": [
    {
     "ename": "OSError",
     "evalue": "no such file or directory: 'drive.google.com/drive/folders/15g7RWPRGI9-M31xGDDZhOm5rUXrK3Z02?usp=sharing\\\\EAB.shp'",
     "output_type": "error",
     "traceback": [
      "\u001b[1;31m---------------------------------------------------------------------------\u001b[0m",
      "\u001b[1;31mOSError\u001b[0m                                   Traceback (most recent call last)",
      "\u001b[1;32m<ipython-input-7-3994a4474ee6>\u001b[0m in \u001b[0;36m<module>\u001b[1;34m()\u001b[0m\n\u001b[0;32m      1\u001b[0m \u001b[1;31m# Open the shapefile as a geodataframe\u001b[0m\u001b[1;33m\u001b[0m\u001b[1;33m\u001b[0m\u001b[0m\n\u001b[1;32m----> 2\u001b[1;33m \u001b[0meab\u001b[0m \u001b[1;33m=\u001b[0m \u001b[0mgpd\u001b[0m\u001b[1;33m.\u001b[0m\u001b[0mread_file\u001b[0m\u001b[1;33m(\u001b[0m\u001b[0mos\u001b[0m\u001b[1;33m.\u001b[0m\u001b[0mpath\u001b[0m\u001b[1;33m.\u001b[0m\u001b[0mjoin\u001b[0m\u001b[1;33m(\u001b[0m\u001b[0mg_datapath\u001b[0m\u001b[1;33m,\u001b[0m\u001b[1;34m'EAB.shp'\u001b[0m\u001b[1;33m)\u001b[0m\u001b[1;33m)\u001b[0m\u001b[1;33m\u001b[0m\u001b[0m\n\u001b[0m\u001b[0;32m      3\u001b[0m \u001b[0meab_84\u001b[0m \u001b[1;33m=\u001b[0m \u001b[0meab\u001b[0m\u001b[1;33m.\u001b[0m\u001b[0mto_crs\u001b[0m\u001b[1;33m(\u001b[0m\u001b[0mepsg\u001b[0m\u001b[1;33m=\u001b[0m\u001b[1;36m4326\u001b[0m\u001b[1;33m)\u001b[0m\u001b[1;33m\u001b[0m\u001b[0m\n",
      "\u001b[1;32mC:\\ProgramData\\Anaconda3\\lib\\site-packages\\geopandas\\io\\file.py\u001b[0m in \u001b[0;36mread_file\u001b[1;34m(filename, **kwargs)\u001b[0m\n\u001b[0;32m     17\u001b[0m     \"\"\"\n\u001b[0;32m     18\u001b[0m     \u001b[0mbbox\u001b[0m \u001b[1;33m=\u001b[0m \u001b[0mkwargs\u001b[0m\u001b[1;33m.\u001b[0m\u001b[0mpop\u001b[0m\u001b[1;33m(\u001b[0m\u001b[1;34m'bbox'\u001b[0m\u001b[1;33m,\u001b[0m \u001b[1;32mNone\u001b[0m\u001b[1;33m)\u001b[0m\u001b[1;33m\u001b[0m\u001b[0m\n\u001b[1;32m---> 19\u001b[1;33m     \u001b[1;32mwith\u001b[0m \u001b[0mfiona\u001b[0m\u001b[1;33m.\u001b[0m\u001b[0mopen\u001b[0m\u001b[1;33m(\u001b[0m\u001b[0mfilename\u001b[0m\u001b[1;33m,\u001b[0m \u001b[1;33m**\u001b[0m\u001b[0mkwargs\u001b[0m\u001b[1;33m)\u001b[0m \u001b[1;32mas\u001b[0m \u001b[0mf\u001b[0m\u001b[1;33m:\u001b[0m\u001b[1;33m\u001b[0m\u001b[0m\n\u001b[0m\u001b[0;32m     20\u001b[0m         \u001b[0mcrs\u001b[0m \u001b[1;33m=\u001b[0m \u001b[0mf\u001b[0m\u001b[1;33m.\u001b[0m\u001b[0mcrs\u001b[0m\u001b[1;33m\u001b[0m\u001b[0m\n\u001b[0;32m     21\u001b[0m         \u001b[1;32mif\u001b[0m \u001b[0mbbox\u001b[0m \u001b[1;32mis\u001b[0m \u001b[1;32mnot\u001b[0m \u001b[1;32mNone\u001b[0m\u001b[1;33m:\u001b[0m\u001b[1;33m\u001b[0m\u001b[0m\n",
      "\u001b[1;32mC:\\ProgramData\\Anaconda3\\lib\\site-packages\\fiona\\__init__.py\u001b[0m in \u001b[0;36mopen\u001b[1;34m(path, mode, driver, schema, crs, encoding, layer, vfs, enabled_drivers, crs_wkt)\u001b[0m\n\u001b[0;32m    160\u001b[0m                 \u001b[1;32mraise\u001b[0m \u001b[0mIOError\u001b[0m\u001b[1;33m(\u001b[0m\u001b[1;34m\"no such archive file: %r\"\u001b[0m \u001b[1;33m%\u001b[0m \u001b[0marchive\u001b[0m\u001b[1;33m)\u001b[0m\u001b[1;33m\u001b[0m\u001b[0m\n\u001b[0;32m    161\u001b[0m         \u001b[1;32melif\u001b[0m \u001b[0mpath\u001b[0m \u001b[1;33m!=\u001b[0m \u001b[1;34m'-'\u001b[0m \u001b[1;32mand\u001b[0m \u001b[1;32mnot\u001b[0m \u001b[0mos\u001b[0m\u001b[1;33m.\u001b[0m\u001b[0mpath\u001b[0m\u001b[1;33m.\u001b[0m\u001b[0mexists\u001b[0m\u001b[1;33m(\u001b[0m\u001b[0mpath\u001b[0m\u001b[1;33m)\u001b[0m\u001b[1;33m:\u001b[0m\u001b[1;33m\u001b[0m\u001b[0m\n\u001b[1;32m--> 162\u001b[1;33m             \u001b[1;32mraise\u001b[0m \u001b[0mIOError\u001b[0m\u001b[1;33m(\u001b[0m\u001b[1;34m\"no such file or directory: %r\"\u001b[0m \u001b[1;33m%\u001b[0m \u001b[0mpath\u001b[0m\u001b[1;33m)\u001b[0m\u001b[1;33m\u001b[0m\u001b[0m\n\u001b[0m\u001b[0;32m    163\u001b[0m         c = Collection(path, mode, driver=driver, encoding=encoding,\n\u001b[0;32m    164\u001b[0m                        \u001b[0mlayer\u001b[0m\u001b[1;33m=\u001b[0m\u001b[0mlayer\u001b[0m\u001b[1;33m,\u001b[0m \u001b[0mvsi\u001b[0m\u001b[1;33m=\u001b[0m\u001b[0mvsi\u001b[0m\u001b[1;33m,\u001b[0m \u001b[0marchive\u001b[0m\u001b[1;33m=\u001b[0m\u001b[0marchive\u001b[0m\u001b[1;33m,\u001b[0m\u001b[1;33m\u001b[0m\u001b[0m\n",
      "\u001b[1;31mOSError\u001b[0m: no such file or directory: 'drive.google.com/drive/folders/15g7RWPRGI9-M31xGDDZhOm5rUXrK3Z02?usp=sharing\\\\EAB.shp'"
     ]
    }
   ],
   "source": [
    "# Open the shapefile as a geodataframe \n",
    "eab = gpd.read_file(os.path.join(g_datapath,'EAB.shp'))\n",
    "eab_84 = eab.to_crs(epsg=4326)"
   ]
  },
  {
   "cell_type": "code",
   "execution_count": null,
   "metadata": {
    "slideshow": {
     "slide_type": "-"
    }
   },
   "outputs": [],
   "source": [
    "# Open the template raster file with rasterio\n",
    "# Copy and update the metadata, setup transform and mask for the output\n",
    "rst = rasterio.open(template_raster)\n",
    "rst_meta = rst.meta.copy()\n",
    "out_meta = rst.meta.copy()\n",
    "#rst.window(*rst.bounds)"
   ]
  },
  {
   "cell_type": "code",
   "execution_count": null,
   "metadata": {
    "slideshow": {
     "slide_type": "-"
    }
   },
   "outputs": [],
   "source": [
    "# Open Census state boundaries as a geodataframe and select New York State\n",
    "census_boundary = gpd.read_file(os.path.join(datapath, 'cb_2017_us_state_500k.shp'))\n",
    "ny_boundary = census_boundary[census_boundary['STATEFP'] == \"36\"]\n",
    "ny_boundary_84 = ny_boundary.to_crs(epsg=4326)\n",
    "ny_boundary_proj = ny_boundary.to_crs(rst.crs.data)"
   ]
  },
  {
   "cell_type": "code",
   "execution_count": null,
   "metadata": {
    "slideshow": {
     "slide_type": "notes"
    }
   },
   "outputs": [],
   "source": [
    "# Set coordinate system of shapefiles to same as raster, write out NY Boundary as shapefile to use with fiona\n",
    "eab_proj=eab.to_crs(rst.crs.data)\n",
    "#ny_boundary_proj=ny_boundary.to_crs(rst.crs.data)\n",
    "ny_boundary_proj.to_file((os.path.join(datapath,'NY_Boundary.shp')))\n",
    "#ny_bounds = ny_boundary_proj.total_bounds.tolist() # Use this to try clipping raster instead of shapefile/fiona geometry\n",
    "#ny_boundary_utm=ny_boundary.to_crs(epsg=26918)\n",
    "census_boundary_proj = census_boundary.to_crs(rst.crs.data)"
   ]
  },
  {
   "cell_type": "markdown",
   "metadata": {
    "slideshow": {
     "slide_type": "slide"
    }
   },
   "source": [
    "## Plotting Vector Data"
   ]
  },
  {
   "cell_type": "code",
   "execution_count": null,
   "metadata": {
    "slideshow": {
     "slide_type": "-"
    }
   },
   "outputs": [],
   "source": [
    "ax=census_boundary.plot(figsize = (8,8), facecolor= 'white', edgecolor='black')\n",
    "#ax.set_axis_off()\n",
    "eab_84.plot(ax=ax, facecolor='red', edgecolor='black')\n",
    "ax.set_ylim(20,50)\n",
    "ax.set_xlim(-125,-60)"
   ]
  },
  {
   "cell_type": "markdown",
   "metadata": {
    "slideshow": {
     "slide_type": "slide"
    }
   },
   "source": [
    "## \"Zoom\" in to NY"
   ]
  },
  {
   "cell_type": "code",
   "execution_count": null,
   "metadata": {
    "scrolled": false,
    "slideshow": {
     "slide_type": "-"
    }
   },
   "outputs": [],
   "source": [
    "ax=ny_boundary_84.plot(figsize=(8, 8), facecolor= 'white', edgecolor='black')\n",
    "eab_84.plot(ax=ax, facecolor='red', edgecolor='black')\n",
    "#ax.set_axis_off()"
   ]
  },
  {
   "cell_type": "code",
   "execution_count": null,
   "metadata": {
    "slideshow": {
     "slide_type": "notes"
    }
   },
   "outputs": [],
   "source": [
    "# Get extent of New York boundary\n",
    "with fiona.open((os.path.join(datapath,'NY_Boundary.shp'))) as shapefile:\n",
    "    geoms = [feature[\"geometry\"] for feature in shapefile]"
   ]
  },
  {
   "cell_type": "markdown",
   "metadata": {
    "slideshow": {
     "slide_type": "slide"
    }
   },
   "source": [
    "## Plotting Vector with Raster "
   ]
  },
  {
   "cell_type": "code",
   "execution_count": null,
   "metadata": {
    "slideshow": {
     "slide_type": "-"
    }
   },
   "outputs": [],
   "source": [
    "template_georaster = georaster.SingleBandRaster(template_raster)\n",
    "with rasterio.open(template_raster) as src:\n",
    "    crs = ccrs.AlbersEqualArea(central_longitude=-76)  \n",
    "    fig = plt.figure(figsize=(8,8))\n",
    "    ax = plt.subplot(projection=crs)\n",
    "    plt.imshow(template_georaster.r, cmap = 'Purples', vmax=1, extent=template_georaster.extent)\n",
    "    plt.xlim(-2500000,2500000)\n",
    "    plt.ylim(300000,3200000)    \n",
    "    census_boundary_proj.plot(ax=ax, facecolor='white', alpha = (0.3), edgecolor='black')\n",
    "    ny_boundary_proj.plot(ax=ax, facecolor='yellow', alpha = (0.5), edgecolor='black')\n",
    "    eab_proj.plot(ax=ax, facecolor = \"red\", alpha=(0.005))   "
   ]
  },
  {
   "cell_type": "markdown",
   "metadata": {
    "slideshow": {
     "slide_type": "slide"
    }
   },
   "source": [
    "## \"Zoom\" in to NY "
   ]
  },
  {
   "cell_type": "code",
   "execution_count": null,
   "metadata": {
    "slideshow": {
     "slide_type": "-"
    }
   },
   "outputs": [],
   "source": [
    "with rasterio.open(template_raster) as src:\n",
    "    crs = ccrs.AlbersEqualArea(central_longitude=-76)  \n",
    "    fig = plt.figure(figsize=(6,6))\n",
    "    ax = plt.subplot(projection=crs)\n",
    "    plt.imshow(template_georaster.r, cmap = 'Purples', vmax=1, extent=template_georaster.extent)\n",
    "    plt.xlim(1300000,2000000)\n",
    "    plt.ylim(2100000,2700000)\n",
    "    ny_boundary_proj.plot(ax=ax, facecolor='yellow', alpha = (0.5), edgecolor='red')\n",
    "    census_boundary_proj.plot(ax=ax, facecolor='white', alpha = (0.3), edgecolor='black')\n",
    "    eab_proj.plot(ax=ax, facecolor='red', alpha=(0.05))    "
   ]
  },
  {
   "cell_type": "markdown",
   "metadata": {
    "slideshow": {
     "slide_type": "slide"
    }
   },
   "source": [
    "## \"Zoom\" in to Buffalo Area"
   ]
  },
  {
   "cell_type": "code",
   "execution_count": null,
   "metadata": {
    "slideshow": {
     "slide_type": "-"
    }
   },
   "outputs": [],
   "source": [
    "with rasterio.open(template_raster) as src:\n",
    "    crs = ccrs.AlbersEqualArea(central_longitude=-96)  \n",
    "    fig = plt.figure(figsize=(6,6))\n",
    "    ax = plt.subplot(projection=crs)\n",
    "    plt.imshow(template_georaster.r, cmap = 'Purples', vmax=1, extent=template_georaster.extent)\n",
    "    plt.xlim(1350000,1430000)\n",
    "    plt.ylim(2300000,2380000)\n",
    "    ny_boundary_proj.plot(ax=ax, facecolor='yellow', alpha = (0.5), edgecolor='black')\n",
    "    eab_proj.plot(ax=ax, facecolor='red', alpha=(0.6))       "
   ]
  },
  {
   "cell_type": "markdown",
   "metadata": {
    "slideshow": {
     "slide_type": "slide"
    }
   },
   "source": [
    "## \"Zoom\" in to see Pixels (250m x 250m)"
   ]
  },
  {
   "cell_type": "code",
   "execution_count": null,
   "metadata": {
    "slideshow": {
     "slide_type": "-"
    }
   },
   "outputs": [],
   "source": [
    "with rasterio.open(template_raster) as src:\n",
    "    crs = ccrs.AlbersEqualArea(central_longitude=-96)  \n",
    "    fig = plt.figure(figsize=(6,6))\n",
    "    ax = plt.subplot(projection=crs)\n",
    "    plt.imshow(template_georaster.r, cmap = 'Purples', vmax=1, extent=template_georaster.extent)\n",
    "    plt.xlim(1375000,1385000)\n",
    "    plt.ylim(2305000,2315000)\n",
    "    ny_boundary_proj.plot(ax=ax, facecolor='yellow', alpha = (0.5), edgecolor='black')\n",
    "    eab_proj.plot(ax=ax, facecolor='red', alpha=(0.6))    "
   ]
  },
  {
   "cell_type": "markdown",
   "metadata": {
    "slideshow": {
     "slide_type": "slide"
    }
   },
   "source": [
    "## Output Template Raster (Clip/Extent)"
   ]
  },
  {
   "cell_type": "code",
   "execution_count": null,
   "metadata": {
    "slideshow": {
     "slide_type": "-"
    }
   },
   "outputs": [],
   "source": [
    "# Update the metadata, and setup transform and mask for the output\n",
    "with rasterio.open(template_raster) as src:\n",
    "    out_image, out_transform = mask(src, geoms, crop=True)\n",
    "    out_meta.update({\"driver\": \"GTiff\",\n",
    "                 \"height\": out_image.shape[1],\n",
    "                 \"width\": out_image.shape[2],\n",
    "                 \"transform\": out_transform,\n",
    "                     \"compress\":'lzw'})    "
   ]
  },
  {
   "cell_type": "code",
   "execution_count": null,
   "metadata": {
    "slideshow": {
     "slide_type": "-"
    }
   },
   "outputs": [],
   "source": [
    "# Burn the features into the raster and write it out\n",
    "with rasterio.open(output_raster, 'w', **out_meta) as out:\n",
    "    out_arr = out.read(1) \n",
    "    shapes = ((geom,value) for geom, value in zip(eab_proj.geometry, eab_proj.OBJECTID))\n",
    "    burned = features.rasterize(shapes=shapes, fill=0, out=out_arr, transform=out_transform)\n",
    "    out.write_band(1, burned)"
   ]
  },
  {
   "cell_type": "markdown",
   "metadata": {
    "slideshow": {
     "slide_type": "slide"
    }
   },
   "source": [
    "## New Variable names for Spatial Join"
   ]
  },
  {
   "cell_type": "code",
   "execution_count": null,
   "metadata": {
    "slideshow": {
     "slide_type": "-"
    }
   },
   "outputs": [],
   "source": [
    "# Assign variable names for raster path/filenames\n",
    "raster_input = (os.path.join(datapath, 'EAB_Proj.tif'))\n",
    "raster_output = (os.path.join(datapath, 'EAB_Proj_Count.tif'))"
   ]
  },
  {
   "cell_type": "code",
   "execution_count": null,
   "metadata": {
    "slideshow": {
     "slide_type": "-"
    }
   },
   "outputs": [],
   "source": [
    "rst = rasterio.open(raster_input)\n",
    "t=rst.transform\n",
    "out_meta = rst.meta.copy()\n",
    "out_meta.update({\"driver\": \"GTiff\",\n",
    "                  \"compress\": 'lzw'})\n",
    "\n",
    "#out_meta.update({\"crs\": 26918, \"driver\": \"GTiff\",\n",
    "#                  \"compress\": 'lzw'})"
   ]
  },
  {
   "cell_type": "markdown",
   "metadata": {
    "slideshow": {
     "slide_type": "slide"
    }
   },
   "source": [
    "## Create Empty Array with same attributes as Template Raster"
   ]
  },
  {
   "cell_type": "code",
   "execution_count": null,
   "metadata": {
    "slideshow": {
     "slide_type": "-"
    }
   },
   "outputs": [],
   "source": [
    "rst_arr=rst.read(1)\n",
    "rst_arr.shape"
   ]
  },
  {
   "cell_type": "code",
   "execution_count": null,
   "metadata": {
    "slideshow": {
     "slide_type": "-"
    }
   },
   "outputs": [],
   "source": [
    "boxes=np.arange(2032*2669).reshape(rst.shape).astype(np.int32)\n",
    "plt.imshow(boxes)"
   ]
  },
  {
   "cell_type": "markdown",
   "metadata": {
    "slideshow": {
     "slide_type": "slide"
    }
   },
   "source": [
    "## Make List of polygon shapes (for each cell) and zip to GeoJson "
   ]
  },
  {
   "cell_type": "code",
   "execution_count": null,
   "metadata": {
    "slideshow": {
     "slide_type": "-"
    }
   },
   "outputs": [],
   "source": [
    "# Over 5 million rows! \n",
    "shapes=[]\n",
    "values=[]\n",
    "\n",
    "for shape, value in features.shapes(boxes, transform = t):\n",
    "    shapes.append(shape)\n",
    "    values.append(value)"
   ]
  },
  {
   "cell_type": "code",
   "execution_count": null,
   "metadata": {
    "slideshow": {
     "slide_type": "-"
    }
   },
   "outputs": [],
   "source": [
    "# Combine above values and shapes into GeoJson format\n",
    "items=[]\n",
    "for shape, value in zip(shapes, values):\n",
    "    geo_json_format={}    \n",
    "    geo_json_format['geometry']=shape\n",
    "    geo_json_format['properties']={'value':value}\n",
    "    items.append(geo_json_format)"
   ]
  },
  {
   "cell_type": "code",
   "execution_count": null,
   "metadata": {
    "slideshow": {
     "slide_type": "-"
    }
   },
   "outputs": [],
   "source": [
    "#Check if correct number of pixels\n",
    "2032*2669==len(items)"
   ]
  },
  {
   "cell_type": "markdown",
   "metadata": {
    "slideshow": {
     "slide_type": "slide"
    }
   },
   "source": [
    "##  Geodataframe from list, Spatial Join & Groupby"
   ]
  },
  {
   "cell_type": "code",
   "execution_count": null,
   "metadata": {
    "slideshow": {
     "slide_type": "-"
    }
   },
   "outputs": [],
   "source": [
    "# Create geodataframe from items, set projection and create unique id for each \"cell\" from the index. \n",
    "poly=gpd.GeoDataFrame.from_features(items)\n",
    "poly.crs=eab_proj.crs\n",
    "poly.reset_index(inplace=True)\n",
    "poly.rename(columns={'index':'UID'}, inplace=True)\n",
    "#poly.rename(columns={'OBJECTID':'pcount'}, inplace=True)\n",
    "#poly.drop('value', 1, inplace=True)"
   ]
  },
  {
   "cell_type": "code",
   "execution_count": null,
   "metadata": {
    "slideshow": {
     "slide_type": "-"
    }
   },
   "outputs": [],
   "source": [
    "# This is the spatial join - it takes forever (at least 5 min on i7 4.0 GHz, 32 GB ram) and often crashes python with memory error\n",
    "points_with_UID=gpd.sjoin(eab_proj, poly, how='left', op='within')"
   ]
  },
  {
   "cell_type": "code",
   "execution_count": null,
   "metadata": {
    "slideshow": {
     "slide_type": "-"
    }
   },
   "outputs": [],
   "source": [
    "# New geodataframe from groupby on unique id, count number of points (OBJECTID)\n",
    "# Fill No Data with zeroes \n",
    "polys_w_values=poly.merge(pd.DataFrame(points_with_UID.groupby('UID')['OBJECTID'].count()), \n",
    "                        left_on='UID', right_index=True, how='left')\n",
    "polys_w_values['OBJECTID']=polys_w_values.OBJECTID.fillna(0)\n",
    "#polys_w_values.OBJECTID.max()#Check if it worked using max value"
   ]
  },
  {
   "cell_type": "markdown",
   "metadata": {
    "slideshow": {
     "slide_type": "slide"
    }
   },
   "source": [
    "## Array from gdf, Output Raster with count of points per cell"
   ]
  },
  {
   "cell_type": "code",
   "execution_count": null,
   "metadata": {
    "slideshow": {
     "slide_type": "-"
    }
   },
   "outputs": [],
   "source": [
    "# Get geodataframe values into numpy array\n",
    "val_array=np.array([val for val in polys_w_values.OBJECTID.tolist()])\n",
    "array_for_raster=val_array.reshape(rst.shape)\n",
    "array_for_raster=array_for_raster.astype(rasterio.float32)"
   ]
  },
  {
   "cell_type": "code",
   "execution_count": null,
   "metadata": {
    "slideshow": {
     "slide_type": "-"
    }
   },
   "outputs": [],
   "source": [
    "# Write the array values to the raster file\n",
    "with rasterio.open(raster_output, 'w', **out_meta) as out:\n",
    "    out.write(array_for_raster, 1)"
   ]
  },
  {
   "cell_type": "markdown",
   "metadata": {
    "slideshow": {
     "slide_type": "slide"
    }
   },
   "source": [
    "## Plot Output"
   ]
  },
  {
   "cell_type": "code",
   "execution_count": null,
   "metadata": {
    "slideshow": {
     "slide_type": "notes"
    }
   },
   "outputs": [],
   "source": [
    "#Read files with GeoRaster\n",
    "template_raster = (os.path.join(datapath,'s541.img'))\n",
    "output_raster = (os.path.join(datapath,'EAB_Proj_Count.tif'))\n",
    "template_georaster = georaster.SingleBandRaster(template_raster)\n",
    "extent_georaster = georaster.SingleBandRaster(output_raster)"
   ]
  },
  {
   "cell_type": "code",
   "execution_count": null,
   "metadata": {
    "scrolled": true,
    "slideshow": {
     "slide_type": "-"
    }
   },
   "outputs": [],
   "source": [
    "with rasterio.open(raster_output) as src:\n",
    "    crs = ccrs.AlbersEqualArea(central_longitude=-96)  \n",
    "    fig = plt.figure(figsize=(6,6))\n",
    "    ax = plt.subplot(projection=crs)\n",
    "    plt.imshow(template_georaster.r, cmap = 'Purples', vmax=1, extent=template_georaster.extent)\n",
    "    plt.imshow(extent_georaster.r, alpha = 0.5, cmap = 'binary', vmax=1, extent=extent_georaster.extent)\n",
    "    plt.xlim(1300000,2000000)\n",
    "    plt.ylim(2100000,2700000)\n",
    "    ny_boundary_proj.plot(ax=ax, facecolor='yellow', alpha = (0.5), edgecolor='red')\n",
    "    census_boundary_proj.plot(ax=ax, facecolor='white', alpha = (0.3), edgecolor='black')"
   ]
  },
  {
   "cell_type": "markdown",
   "metadata": {
    "slideshow": {
     "slide_type": "slide"
    }
   },
   "source": [
    "## \"Zoom\" in to see Pixels"
   ]
  },
  {
   "cell_type": "code",
   "execution_count": null,
   "metadata": {
    "scrolled": true,
    "slideshow": {
     "slide_type": "-"
    }
   },
   "outputs": [],
   "source": [
    "with rasterio.open(template_raster) as src:\n",
    "    crs = ccrs.AlbersEqualArea(central_longitude=-96)  \n",
    "    fig = plt.figure(figsize=(6,6))\n",
    "    ax = plt.subplot(projection=crs)\n",
    "    plt.imshow(extent_georaster.r, cmap = 'Purples', vmax=2, extent=extent_georaster.extent)\n",
    "    plt.xlim(1375000,1385000)\n",
    "    plt.ylim(2305000,2315000)\n",
    "    ny_boundary_proj.plot(ax=ax, facecolor='yellow', alpha = (0.3), edgecolor='red')"
   ]
  },
  {
   "cell_type": "markdown",
   "metadata": {
    "slideshow": {
     "slide_type": "slide"
    }
   },
   "source": [
    "## \"Zoom\" in to see Pixels with Original Point overlaid"
   ]
  },
  {
   "cell_type": "code",
   "execution_count": null,
   "metadata": {
    "slideshow": {
     "slide_type": "-"
    }
   },
   "outputs": [],
   "source": [
    "with rasterio.open(template_raster) as src:\n",
    "    crs = ccrs.AlbersEqualArea(central_longitude=-96)  \n",
    "    fig = plt.figure(figsize=(6,6))\n",
    "    ax = plt.subplot(projection=crs)\n",
    "    plt.xlim(1375000,1385000)\n",
    "    plt.ylim(2305000,2315000)\n",
    "    ny_boundary_proj.plot(ax=ax, facecolor='yellow', alpha = (0.3), edgecolor='red')\n",
    "    plt.imshow(extent_georaster.r, cmap = 'Purples', vmax=2, extent=extent_georaster.extent)\n",
    "    eab_proj.plot(ax=ax, facecolor='red', alpha=(0.6))    "
   ]
  },
  {
   "cell_type": "code",
   "execution_count": null,
   "metadata": {},
   "outputs": [],
   "source": []
  }
 ],
 "metadata": {
  "celltoolbar": "Slideshow",
  "kernelspec": {
   "display_name": "Python 3",
   "language": "python",
   "name": "python3"
  },
  "language_info": {
   "codemirror_mode": {
    "name": "ipython",
    "version": 3
   },
   "file_extension": ".py",
   "mimetype": "text/x-python",
   "name": "python",
   "nbconvert_exporter": "python",
   "pygments_lexer": "ipython3",
   "version": "3.6.5"
  }
 },
 "nbformat": 4,
 "nbformat_minor": 2
}
